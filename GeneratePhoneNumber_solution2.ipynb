{
 "cells": [
  {
   "cell_type": "code",
   "execution_count": 1,
   "id": "fee3ddb7",
   "metadata": {},
   "outputs": [],
   "source": [
    "import random"
   ]
  },
  {
   "cell_type": "code",
   "execution_count": 2,
   "id": "e1f09a4c",
   "metadata": {},
   "outputs": [],
   "source": [
    "def middle():\n",
    "    phone_number = str(random.randint(111,333))\n",
    "    return phone_number"
   ]
  },
  {
   "cell_type": "code",
   "execution_count": 3,
   "id": "d11d1fce",
   "metadata": {},
   "outputs": [
    {
     "name": "stdout",
     "output_type": "stream",
     "text": [
      "140\n"
     ]
    }
   ],
   "source": [
    "print(middle())"
   ]
  },
  {
   "cell_type": "code",
   "execution_count": 4,
   "id": "358e1ef5",
   "metadata": {},
   "outputs": [],
   "source": [
    "def last():\n",
    "    phone_number = str(random.randint(0,9999)).zfill(4)\n",
    "    return phone_number"
   ]
  },
  {
   "cell_type": "code",
   "execution_count": 11,
   "id": "0d9bd74a",
   "metadata": {},
   "outputs": [
    {
     "name": "stdout",
     "output_type": "stream",
     "text": [
      "5495\n"
     ]
    }
   ],
   "source": [
    "print(last())"
   ]
  },
  {
   "cell_type": "code",
   "execution_count": 6,
   "id": "409dd51c",
   "metadata": {},
   "outputs": [],
   "source": [
    "def generatePhoneNumber():\n",
    "    return '555-{}-{}'.format(middle(), last())"
   ]
  },
  {
   "cell_type": "code",
   "execution_count": 7,
   "id": "a7c0e34b",
   "metadata": {},
   "outputs": [
    {
     "name": "stdout",
     "output_type": "stream",
     "text": [
      "555-305-9416\n",
      "555-209-2505\n",
      "555-246-4487\n",
      "555-166-7098\n",
      "555-248-1710\n",
      "555-123-9281\n",
      "555-284-2729\n",
      "555-235-8152\n",
      "555-307-5783\n",
      "555-319-0429\n",
      "555-224-8172\n",
      "555-254-9702\n",
      "555-138-2046\n",
      "555-202-9587\n",
      "555-142-5522\n",
      "555-113-0454\n",
      "555-150-5632\n",
      "555-317-9089\n",
      "555-179-3820\n",
      "555-213-1127\n",
      "555-269-0722\n",
      "555-185-5994\n",
      "555-160-3902\n",
      "555-282-3301\n",
      "555-272-5725\n",
      "555-272-4885\n",
      "555-228-9750\n",
      "555-215-8300\n",
      "555-144-8267\n",
      "555-168-0396\n",
      "555-194-4700\n",
      "555-211-9831\n",
      "555-251-1973\n",
      "555-187-2504\n",
      "555-206-7741\n",
      "555-158-5106\n",
      "555-289-6552\n",
      "555-213-6018\n",
      "555-174-7339\n",
      "555-174-4369\n",
      "555-209-8868\n",
      "555-166-9672\n",
      "555-324-2072\n",
      "555-206-3525\n",
      "555-266-3106\n",
      "555-163-5376\n",
      "555-150-2695\n",
      "555-131-4806\n",
      "555-307-5343\n",
      "555-139-3822\n"
     ]
    }
   ],
   "source": [
    "for i in range(50):\n",
    "    print(generatePhoneNumber())"
   ]
  },
  {
   "cell_type": "code",
   "execution_count": null,
   "id": "dd693faa",
   "metadata": {},
   "outputs": [],
   "source": []
  }
 ],
 "metadata": {
  "kernelspec": {
   "display_name": "Python 3 (ipykernel)",
   "language": "python",
   "name": "python3"
  },
  "language_info": {
   "codemirror_mode": {
    "name": "ipython",
    "version": 3
   },
   "file_extension": ".py",
   "mimetype": "text/x-python",
   "name": "python",
   "nbconvert_exporter": "python",
   "pygments_lexer": "ipython3",
   "version": "3.9.12"
  }
 },
 "nbformat": 4,
 "nbformat_minor": 5
}
