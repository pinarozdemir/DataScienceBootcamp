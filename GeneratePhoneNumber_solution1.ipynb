{
 "cells": [
  {
   "cell_type": "code",
   "execution_count": 41,
   "id": "fee3ddb7",
   "metadata": {},
   "outputs": [],
   "source": [
    "import random"
   ]
  },
  {
   "cell_type": "code",
   "execution_count": 64,
   "id": "e1f09a4c",
   "metadata": {},
   "outputs": [],
   "source": [
    "def middle():\n",
    "    phone_number = str(random.randint(1,3)) + str(random.randint(1,3)) + str(random.randint(1,3))\n",
    "    return phone_number"
   ]
  },
  {
   "cell_type": "code",
   "execution_count": 66,
   "id": "d11d1fce",
   "metadata": {},
   "outputs": [
    {
     "name": "stdout",
     "output_type": "stream",
     "text": [
      "112\n"
     ]
    }
   ],
   "source": [
    "print(middle())"
   ]
  },
  {
   "cell_type": "code",
   "execution_count": 69,
   "id": "358e1ef5",
   "metadata": {},
   "outputs": [],
   "source": [
    "def last():\n",
    "    phone_number = str(random.randint(0,9)) + str(random.randint(0,9))+ str(random.randint(0,9))+str(random.randint(0,9))\n",
    "    return phone_number"
   ]
  },
  {
   "cell_type": "code",
   "execution_count": 70,
   "id": "0d9bd74a",
   "metadata": {},
   "outputs": [
    {
     "name": "stdout",
     "output_type": "stream",
     "text": [
      "0743\n"
     ]
    }
   ],
   "source": [
    "print(last())"
   ]
  },
  {
   "cell_type": "code",
   "execution_count": 71,
   "id": "409dd51c",
   "metadata": {},
   "outputs": [],
   "source": [
    "def generatePhoneNumber():\n",
    "    return '555-{}-{}'.format(middle(), last())"
   ]
  },
  {
   "cell_type": "code",
   "execution_count": 72,
   "id": "a7c0e34b",
   "metadata": {},
   "outputs": [
    {
     "name": "stdout",
     "output_type": "stream",
     "text": [
      "555-233-9108\n",
      "555-131-9035\n",
      "555-312-9145\n",
      "555-233-2689\n",
      "555-323-5398\n",
      "555-311-5037\n",
      "555-111-7340\n",
      "555-131-7148\n",
      "555-233-9897\n",
      "555-131-1438\n",
      "555-233-1818\n",
      "555-133-5512\n",
      "555-311-0937\n",
      "555-221-0405\n",
      "555-113-1867\n",
      "555-323-4333\n",
      "555-132-7517\n",
      "555-211-4763\n",
      "555-223-1958\n",
      "555-123-3237\n",
      "555-223-8284\n",
      "555-212-4503\n",
      "555-312-1061\n",
      "555-313-0621\n",
      "555-112-9485\n",
      "555-221-7698\n",
      "555-333-1397\n",
      "555-133-3635\n",
      "555-221-9229\n",
      "555-211-7213\n",
      "555-233-5000\n",
      "555-223-4729\n",
      "555-213-8610\n",
      "555-213-0845\n",
      "555-311-3049\n",
      "555-223-0279\n",
      "555-123-1001\n",
      "555-131-5259\n",
      "555-232-5330\n",
      "555-211-7926\n",
      "555-321-2218\n",
      "555-213-7503\n",
      "555-331-4087\n",
      "555-331-5643\n",
      "555-222-3930\n",
      "555-233-5263\n",
      "555-313-2445\n",
      "555-311-7862\n",
      "555-322-5863\n",
      "555-213-3003\n"
     ]
    }
   ],
   "source": [
    "for i in range(50):\n",
    "    print(generatePhoneNumber())"
   ]
  },
  {
   "cell_type": "code",
   "execution_count": null,
   "id": "dd693faa",
   "metadata": {},
   "outputs": [],
   "source": []
  }
 ],
 "metadata": {
  "kernelspec": {
   "display_name": "Python 3 (ipykernel)",
   "language": "python",
   "name": "python3"
  },
  "language_info": {
   "codemirror_mode": {
    "name": "ipython",
    "version": 3
   },
   "file_extension": ".py",
   "mimetype": "text/x-python",
   "name": "python",
   "nbconvert_exporter": "python",
   "pygments_lexer": "ipython3",
   "version": "3.9.12"
  }
 },
 "nbformat": 4,
 "nbformat_minor": 5
}
